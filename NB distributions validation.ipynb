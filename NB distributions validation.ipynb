{
 "cells": [
  {
   "cell_type": "code",
   "execution_count": 83,
   "id": "1adff20d",
   "metadata": {},
   "outputs": [],
   "source": [
    "from os.path import isfile, join\n",
    "from os import listdir\n",
    "import numpy as np"
   ]
  },
  {
   "cell_type": "code",
   "execution_count": 84,
   "id": "06deb063",
   "metadata": {},
   "outputs": [],
   "source": [
    "sources = ['imdb']"
   ]
  },
  {
   "cell_type": "code",
   "execution_count": 85,
   "id": "dd141a5a",
   "metadata": {},
   "outputs": [
    {
     "name": "stdout",
     "output_type": "stream",
     "text": [
      "IMDB: (11179 positive examples and 3439 negative examples.)\n",
      "Accuracy: 0.6651115063620194\n",
      "\n",
      "\n",
      "\n"
     ]
    }
   ],
   "source": [
    "root_path = 'logs/'\n",
    "for source in sources:\n",
    "    path = root_path + f'/{source}'\n",
    "    files = [f for f in listdir(path) if isfile(join(path, f))]\n",
    "    \n",
    "    if '.json' in files[0]:\n",
    "        file = np.load(path + '/' + files[1])\n",
    "    else:\n",
    "        file = np.load(path + '/' + files[0])\n",
    "    \n",
    "    classes = []\n",
    "    n_examples = len(file['proba'][0])\n",
    "    \n",
    "    classes = [0 if file['proba'][0][i][0] > file['proba'][0][i][1] else 1 for i in range(n_examples)]\n",
    "    print(f'{source.upper()}: ({classes.count(1)} positive examples and {classes.count(0)} negative examples.)')\n",
    "    print(f'Accuracy: {np.mean(file[\"score\"])}')\n",
    "    print('\\n\\n')"
   ]
  }
 ],
 "metadata": {
  "kernelspec": {
   "display_name": "Python 3",
   "language": "python",
   "name": "python3"
  },
  "language_info": {
   "codemirror_mode": {
    "name": "ipython",
    "version": 3
   },
   "file_extension": ".py",
   "mimetype": "text/x-python",
   "name": "python",
   "nbconvert_exporter": "python",
   "pygments_lexer": "ipython3",
   "version": "3.8.10"
  },
  "latex_envs": {
   "LaTeX_envs_menu_present": true,
   "autoclose": false,
   "autocomplete": true,
   "bibliofile": "biblio.bib",
   "cite_by": "apalike",
   "current_citInitial": 1,
   "eqLabelWithNumbers": true,
   "eqNumInitial": 1,
   "hotkeys": {
    "equation": "Ctrl-E",
    "itemize": "Ctrl-I"
   },
   "labels_anchors": false,
   "latex_user_defs": false,
   "report_style_numbering": false,
   "user_envs_cfg": false
  },
  "toc": {
   "base_numbering": 1,
   "nav_menu": {},
   "number_sections": true,
   "sideBar": true,
   "skip_h1_title": false,
   "title_cell": "Table of Contents",
   "title_sidebar": "Contents",
   "toc_cell": false,
   "toc_position": {},
   "toc_section_display": true,
   "toc_window_display": false
  },
  "varInspector": {
   "cols": {
    "lenName": 16,
    "lenType": 16,
    "lenVar": 40
   },
   "kernels_config": {
    "python": {
     "delete_cmd_postfix": "",
     "delete_cmd_prefix": "del ",
     "library": "var_list.py",
     "varRefreshCmd": "print(var_dic_list())"
    },
    "r": {
     "delete_cmd_postfix": ") ",
     "delete_cmd_prefix": "rm(",
     "library": "var_list.r",
     "varRefreshCmd": "cat(var_dic_list()) "
    }
   },
   "types_to_exclude": [
    "module",
    "function",
    "builtin_function_or_method",
    "instance",
    "_Feature"
   ],
   "window_display": false
  }
 },
 "nbformat": 4,
 "nbformat_minor": 5
}
