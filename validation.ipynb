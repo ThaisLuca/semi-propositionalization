{
 "cells": [
  {
   "cell_type": "code",
   "execution_count": 4,
   "id": "50d018c3",
   "metadata": {},
   "outputs": [],
   "source": [
    "import os\n",
    "import numpy as np\n",
    "from os.path import isfile, join"
   ]
  },
  {
   "cell_type": "code",
   "execution_count": 3,
   "id": "28962c45",
   "metadata": {},
   "outputs": [],
   "source": [
    "experiments = [\n",
    "            {'id': '1', 'source':'imdb', 'target':'uwcse', 'predicate':'workedunder', 'to_predicate':'advisedby', 'arity': 2},\n",
    "            ##{'id': '2', 'source':'uwcse', 'target':'imdb', 'predicate':'advisedby', 'to_predicate':'workedunder', 'arity': 2},\n",
    "            {'id': '3', 'source':'imdb', 'target':'cora', 'predicate':'workedunder', 'to_predicate':'samevenue', 'arity': 2},\n",
    "            {'id': '4', 'source':'cora', 'target':'imdb', 'predicate':'samevenue', 'to_predicate':'workedunder', 'arity': 2},\n",
    "            ##{'id': '5', 'source':'uwcse', 'target':'cora', 'predicate':'advisedby', 'to_predicate':'samevenue', 'arity': 2},\n",
    "            ##{'id': '6', 'source':'cora', 'target':'uwcse', 'predicate':'samevenue', 'to_predicate':'advisedby', 'arity': 2},\n",
    "            {'id': '7', 'source':'yeast', 'target':'twitter', 'predicate':'proteinclass', 'to_predicate':'accounttype', 'arity': 2},\n",
    "            {'id': '8', 'source':'twitter', 'target':'yeast', 'predicate':'accounttype', 'to_predicate':'proteinclass', 'arity': 2},\n",
    "            {'id': '9', 'source':'nell_sports', 'target':'nell_finances', 'predicate':'teamplayssport', 'to_predicate':'companyeconomicsector', 'arity': 2},\n",
    "            {'id': '10', 'source':'nell_finances', 'target':'nell_sports', 'predicate':'companyeconomicsector', 'to_predicate':'teamplayssport', 'arity': 2},\n",
    "]"
   ]
  },
  {
   "cell_type": "code",
   "execution_count": 34,
   "id": "c1b1f4af",
   "metadata": {},
   "outputs": [
    {
     "name": "stdout",
     "output_type": "stream",
     "text": [
      "Experiment name: 1_imdb_uwcse\n",
      "Average CLL 0.18051982231473068\n",
      "Experiment name: 3_imdb_cora\n",
      "Average CLL 0.4269076122233755\n",
      "Experiment name: 4_cora_imdb\n",
      "Average CLL 0.08852092455988704\n",
      "Experiment name: 7_yeast_twitter\n",
      "Average CLL 0.1102189274757598\n",
      "Experiment name: 8_twitter_yeast\n",
      "Average CLL 0.22672954740907705\n",
      "Experiment name: 9_nell_sports_nell_finances\n",
      "Average CLL 0.2646727623079212\n",
      "Experiment name: 10_nell_finances_nell_sports\n",
      "Average CLL 0.07381658430154704\n"
     ]
    }
   ],
   "source": [
    "for exp in experiments:\n",
    "    \n",
    "    experiment_title = exp['id'] + '_' + exp['source'] + '_' + exp['target']\n",
    "    target = exp['target']\n",
    "    path = f'''CLLs/{target}'''\n",
    "    files = [f for f in os.listdir(path) if isfile(join(path, f))]\n",
    "    \n",
    "    my_clls = []\n",
    "    for file in files:\n",
    "        with open(f'''CLLs/{target}/{file}''', \"r\") as f:\n",
    "            for line in f:\n",
    "                my_clls.append(float(line.split(' ')[0]))\n",
    "        #print(f'''Size of array {len(my_clls)}''')\n",
    "    \n",
    "    print(f'''Experiment name: {experiment_title}''')\n",
    "    print(f'''Average CLL {np.sum(my_clls)/len(my_clls)}''')"
   ]
  },
  {
   "cell_type": "code",
   "execution_count": null,
   "id": "d0fed198",
   "metadata": {},
   "outputs": [],
   "source": []
  }
 ],
 "metadata": {
  "kernelspec": {
   "display_name": "Python 3",
   "language": "python",
   "name": "python3"
  },
  "language_info": {
   "codemirror_mode": {
    "name": "ipython",
    "version": 3
   },
   "file_extension": ".py",
   "mimetype": "text/x-python",
   "name": "python",
   "nbconvert_exporter": "python",
   "pygments_lexer": "ipython3",
   "version": "3.8.10"
  },
  "latex_envs": {
   "LaTeX_envs_menu_present": true,
   "autoclose": false,
   "autocomplete": true,
   "bibliofile": "biblio.bib",
   "cite_by": "apalike",
   "current_citInitial": 1,
   "eqLabelWithNumbers": true,
   "eqNumInitial": 1,
   "hotkeys": {
    "equation": "Ctrl-E",
    "itemize": "Ctrl-I"
   },
   "labels_anchors": false,
   "latex_user_defs": false,
   "report_style_numbering": false,
   "user_envs_cfg": false
  },
  "toc": {
   "base_numbering": 1,
   "nav_menu": {},
   "number_sections": true,
   "sideBar": true,
   "skip_h1_title": false,
   "title_cell": "Table of Contents",
   "title_sidebar": "Contents",
   "toc_cell": false,
   "toc_position": {},
   "toc_section_display": true,
   "toc_window_display": false
  },
  "varInspector": {
   "cols": {
    "lenName": 16,
    "lenType": 16,
    "lenVar": 40
   },
   "kernels_config": {
    "python": {
     "delete_cmd_postfix": "",
     "delete_cmd_prefix": "del ",
     "library": "var_list.py",
     "varRefreshCmd": "print(var_dic_list())"
    },
    "r": {
     "delete_cmd_postfix": ") ",
     "delete_cmd_prefix": "rm(",
     "library": "var_list.r",
     "varRefreshCmd": "cat(var_dic_list()) "
    }
   },
   "types_to_exclude": [
    "module",
    "function",
    "builtin_function_or_method",
    "instance",
    "_Feature"
   ],
   "window_display": false
  }
 },
 "nbformat": 4,
 "nbformat_minor": 5
}
